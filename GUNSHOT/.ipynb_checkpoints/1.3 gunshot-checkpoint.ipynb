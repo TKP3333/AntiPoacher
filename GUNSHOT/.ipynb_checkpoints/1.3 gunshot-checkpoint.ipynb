{
 "cells": [
  {
   "cell_type": "code",
   "execution_count": 2,
   "id": "5a5d5ebc-a3b3-4a1e-9eff-2f65e4154e98",
   "metadata": {},
   "outputs": [
    {
     "name": "stderr",
     "output_type": "stream",
     "text": [
      "/home/charanko/anaconda3/lib/python3.12/site-packages/tensorflow/lite/python/interpreter.py:457: UserWarning:     Warning: tf.lite.Interpreter is deprecated and is scheduled for deletion in\n",
      "    TF 2.20. Please use the LiteRT interpreter from the ai_edge_litert package.\n",
      "    See the [migration guide](https://ai.google.dev/edge/litert/migration)\n",
      "    for details.\n",
      "    \n",
      "  warnings.warn(_INTERPRETER_DELETION_WARNING)\n"
     ]
    },
    {
     "data": {
      "text/plain": [
       "(False, 0.9998564245179296)"
      ]
     },
     "execution_count": 2,
     "metadata": {},
     "output_type": "execute_result"
    }
   ],
   "source": [
    "import numpy as np\n",
    "import librosa\n",
    "import tensorflow as tf\n",
    "\n",
    "# Load the TFLite model and allocate tensors\n",
    "interpreter = tf.lite.Interpreter(model_path=\"gunshot_detection_model03.tflite\")\n",
    "interpreter.allocate_tensors()\n",
    "\n",
    "# Get input and output tensors\n",
    "input_details = interpreter.get_input_details()\n",
    "output_details = interpreter.get_output_details()\n",
    "\n",
    "# Function to preprocess audio (same as during training)\n",
    "def extract_features(file_path, max_pad_len=100):\n",
    "    audio, sr = librosa.load(file_path, sr=None)\n",
    "    mfccs = librosa.feature.mfcc(y=audio, sr=sr, n_mfcc=13)  # Use 13 MFCCs instead of 40\n",
    "    \n",
    "    # Pad/Crop to fixed length\n",
    "    pad_width = max_pad_len - mfccs.shape[1]\n",
    "    mfccs = np.pad(mfccs, pad_width=((0, 0), (0, max(pad_width, 0))))\n",
    "    mfccs = mfccs[:, :max_pad_len]  # Crop if longer\n",
    "    \n",
    "    # Reshape to (1, 100, 13) - transpose and add batch dim\n",
    "    mfccs = mfccs.T  # Transpose to (100, 13)\n",
    "    mfccs = np.expand_dims(mfccs, axis=0)  # Add batch dim: (1, 100, 13)\n",
    "    \n",
    "    return mfccs.astype(np.float32) # Add batch dim: (1, 100, 40)\n",
    "    \n",
    "    return mfccs.astype(np.float32)\n",
    "# Example: Predict on a new audio file\n",
    "def predict_gunshot(audio_path, threshold=0.5):\n",
    "    features = extract_features(audio_path)  # Now shape (1, 100, 13)\n",
    "    \n",
    "    \n",
    "    # Run inference\n",
    "    interpreter.set_tensor(input_details[0]['index'], features)\n",
    "    interpreter.invoke()\n",
    "    prediction = interpreter.get_tensor(output_details[0]['index'])\n",
    "    \n",
    "    is_gunshot = prediction[0][0] > threshold\n",
    "    confidence = prediction[0][0] if is_gunshot else 1 - prediction[0][0]\n",
    "    label = \"NOT-GUNSHOT\" if/home/charanko/Project is_gunshot else \" GUNSHOT\"\n",
    "    \n",
    "    print(f\"Prediction: {label} (Confidence: {confidence:.4f})\")\n",
    "    return is_gunshot, confidence\n",
    "predict_gunshot(\"Dataset/testing-voice/ak.mp3\") "
   ]
  },
  {
   "cell_type": "code",
   "execution_count": null,
   "id": "9fe16712-2211-4bc8-9d24-90655d2192d6",
   "metadata": {},
   "outputs": [],
   "source": []
  }
 ],
 "metadata": {
  "kernelspec": {
   "display_name": "Python 3 (ipykernel)",
   "language": "python",
   "name": "python3"
  },
  "language_info": {
   "codemirror_mode": {
    "name": "ipython",
    "version": 3
   },
   "file_extension": ".py",
   "mimetype": "text/x-python",
   "name": "python",
   "nbconvert_exporter": "python",
   "pygments_lexer": "ipython3",
   "version": "3.12.7"
  }
 },
 "nbformat": 4,
 "nbformat_minor": 5
}
